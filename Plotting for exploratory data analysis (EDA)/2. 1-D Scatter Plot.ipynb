{
 "cells": [
  {
   "cell_type": "code",
   "execution_count": 2,
   "metadata": {},
   "outputs": [],
   "source": [
    "import pandas as pd\n",
    "import seaborn as sns\n",
    "import matplotlib.pyplot as plt\n",
    "import numpy as np\n",
    "iris = pd.read_csv(\"iris.csv\")"
   ]
  },
  {
   "cell_type": "code",
   "execution_count": 5,
   "metadata": {},
   "outputs": [],
   "source": [
    "iris_setso = iris.loc[iris[\"species\"] == \"setosa\"];\n",
    "iris_virginica = iris.loc[iris[\"species\"] == \"virginica\"];\n",
    "iris_versicolor = iris.loc[iris[\"species\"] == \"versicolor\"];\n"
   ]
  },
  {
   "cell_type": "code",
   "execution_count": 8,
   "metadata": {},
   "outputs": [
    {
     "data": {
      "image/png": "[encoded data removed]",
      "text/plain": [
       "<Figure size 432x288 with 1 Axes>"
      ]
     },
     "metadata": {
      "needs_background": "light"
     },
     "output_type": "display_data"
    }
   ],
   "source": [
    "plt.plot(iris_setso[\"petal_length\"],np.zeros_like(iris_setso[\"petal_length\"]), 'o')\n",
    "plt.plot(iris_versicolor[\"petal_length\"],np.zeros_like(iris_versicolor[\"petal_length\"]), 'o')\n",
    "plt.plot(iris_virginica[\"petal_length\"],np.zeros_like(iris_virginica[\"petal_length\"]), 'o')\n",
    "plt.grid()\n",
    "plt.show()"
   ]
  },
  {
   "cell_type": "markdown",
   "metadata": {},
   "source": [
    "## Observation\n",
    "As we can see in plot blue points are setosa, orange are versicolor and green are virginica. here in we are trying to plot each observation and one thing we can notice is we 1-D scatter plot is very very hard to read and understand and we can they are overlapping like crazy and we can't make sense out of these. "
   ]
  },
  {
   "cell_type": "code",
   "execution_count": null,
   "metadata": {},
   "outputs": [],
   "source": []
  }
 ],
 "metadata": {
  "kernelspec": {
   "display_name": "Python 3",
   "language": "python",
   "name": "python3"
  },
  "language_info": {
   "codemirror_mode": {
    "name": "ipython",
    "version": 3
   },
   "file_extension": ".py",
   "mimetype": "text/x-python",
   "name": "python",
   "nbconvert_exporter": "python",
   "pygments_lexer": "ipython3",
   "version": "3.7.2"
  }
 },
 "nbformat": 4,
 "nbformat_minor": 2
}
